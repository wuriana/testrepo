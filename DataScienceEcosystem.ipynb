{
 "cells": [
  {
   "cell_type": "markdown",
   "id": "d2657339-e71c-4a95-8e03-55d81b54ae37",
   "metadata": {},
   "source": [
    "# Data Science Tools and Ecosystem"
   ]
  },
  {
   "cell_type": "markdown",
   "id": "48d63f28-5823-444d-adb5-7d5b446a7fd2",
   "metadata": {},
   "source": [
    "In this notebook, Data Science Tools and Ecosystem are summarized."
   ]
  },
  {
   "cell_type": "markdown",
   "id": "0987e431-93fc-4dea-b6d0-ce9f84935092",
   "metadata": {},
   "source": [
    "**Objectives:.**\n",
    "- List popular languages for Data Science\n",
    "- List popular libraries for Data Science\n",
    "- Describe how to use the notebooks in JupyterLab."
   ]
  },
  {
   "cell_type": "markdown",
   "id": "45f8310c-dcc3-4d77-ab9c-34c9c2c2a95c",
   "metadata": {},
   "source": [
    "Some of the popular languages that Data Scientists use are:\n",
    "1. Python\n",
    "2. R\n",
    "3. SQL"
   ]
  },
  {
   "cell_type": "markdown",
   "id": "aea0996b-d3f0-4073-aea9-13610e768295",
   "metadata": {},
   "source": [
    "Some of the commonly used libraries used by Data Scientists include:\n",
    "1. Pandas\n",
    "2. NumPy\n",
    "3. Matplotlib"
   ]
  },
  {
   "cell_type": "markdown",
   "id": "07cd87d7-3fbc-4aa9-bc00-faa5672b08d7",
   "metadata": {},
   "source": [
    "|Data Science Tools |\n",
    "| ------ |\n",
    "|Apache Spark |\n",
    "|TensorFlow |\n",
    "|Apache PredictionIO |"
   ]
  },
  {
   "cell_type": "markdown",
   "id": "0745de54-a194-4bbb-b3f0-9ab25f4e8f1a",
   "metadata": {},
   "source": [
    "### Below are a few examples of evaluating arithmetic expressions in Python"
   ]
  },
  {
   "cell_type": "code",
   "execution_count": 1,
   "id": "d579ff1f-5e9c-4aa0-8fbe-b5c2e87acd08",
   "metadata": {
    "tags": []
   },
   "outputs": [
    {
     "data": {
      "text/plain": [
       "17"
      ]
     },
     "execution_count": 1,
     "metadata": {},
     "output_type": "execute_result"
    }
   ],
   "source": [
    "# This a simple arithmetic expression to mutiply then add integers\n",
    "(3*4)+5"
   ]
  },
  {
   "cell_type": "code",
   "execution_count": 2,
   "id": "0748aae3-a909-4731-baa8-712e3b4b6e9a",
   "metadata": {
    "tags": []
   },
   "outputs": [
    {
     "data": {
      "text/plain": [
       "3.3333333333333335"
      ]
     },
     "execution_count": 2,
     "metadata": {},
     "output_type": "execute_result"
    }
   ],
   "source": [
    "# This will convert 200 minutes to hours by diving by 60\n",
    "200/60"
   ]
  },
  {
   "cell_type": "markdown",
   "id": "71efb870-7780-4148-b216-83f5acd2885a",
   "metadata": {},
   "source": [
    "## Author\n",
    "Wuriana Mawardi"
   ]
  },
  {
   "cell_type": "code",
   "execution_count": null,
   "id": "bec13a8f-e3d9-4d28-b900-c3ee1011579d",
   "metadata": {},
   "outputs": [],
   "source": []
  }
 ],
 "metadata": {
  "kernelspec": {
   "display_name": "Python",
   "language": "python",
   "name": "conda-env-python-py"
  },
  "language_info": {
   "codemirror_mode": {
    "name": "ipython",
    "version": 3
   },
   "file_extension": ".py",
   "mimetype": "text/x-python",
   "name": "python",
   "nbconvert_exporter": "python",
   "pygments_lexer": "ipython3",
   "version": "3.7.12"
  }
 },
 "nbformat": 4,
 "nbformat_minor": 5
}
